{
 "cells": [
  {
   "cell_type": "code",
   "execution_count": 1,
   "id": "5374a588-c588-400f-8226-1cbcbc6874e9",
   "metadata": {},
   "outputs": [],
   "source": [
    "ADDRESS = \"0x99cd83938B953EA2C77944f5cF1c483D25CB71B0\""
   ]
  },
  {
   "cell_type": "code",
   "execution_count": 2,
   "id": "dc2b41e9-7958-493c-a09e-fa876cd8b6e9",
   "metadata": {},
   "outputs": [],
   "source": [
    "import os # File path manipulations\n",
    "import json # Parsing the ABI and Metadata\n",
    "from io import StringIO # For loading the image\n",
    "\n",
    "import requests # For getting the metadata and image\n",
    "import PIL # For encoding the image\n",
    "from eth_account import Account # For managing private keys\n",
    "from web3 import Web3 # For web3 interactions \n",
    "from IPython.display import display # For rich display"
   ]
  },
  {
   "cell_type": "code",
   "execution_count": 3,
   "id": "e7cefda4-e328-4d19-aaec-41a7402b32b4",
   "metadata": {},
   "outputs": [],
   "source": [
    "class CollectionItem:\n",
    "    \n",
    "    def __init__(self, id_ : int, contract, address: str):\n",
    "        self._id = id_\n",
    "        self._contract = contract\n",
    "        self._address = address\n",
    "        \n",
    "    @property\n",
    "    def uri(self) -> str:\n",
    "        return self._contract.functions.uri(0).call().replace(\"{id}\", format(self._id, 'x').zfill(64))\n",
    "    \n",
    "    @property\n",
    "    def balance(self) -> int:\n",
    "        return self._contract.functions.balanceOf(self._address, self._id).call()\n",
    "    \n",
    "    @property\n",
    "    def supply(self) -> int:\n",
    "        return self._contract.functions.totalSupply(self._id).call()\n",
    "    \n",
    "    @property\n",
    "    def metadata(self) -> dict:\n",
    "        return requests.get(self.uri).json()\n",
    "    \n",
    "    @property\n",
    "    def image(self):\n",
    "        r = requests.get(self.metadata[\"image\"])\n",
    "        return PIL.Image.open(StringIO(r.content))\n",
    "    \n",
    "    def _repr_html_(self) -> str:\n",
    "        meta = self.metadata\n",
    "        return '<h3>{}</h3><figure><img src=\"{}\" width=250 height=250 /><figcaption>{} <br> Balance: {} of {}</figcaption></figure>'.format(\n",
    "            meta[\"name\"], meta[\"image\"], meta[\"description\"], self.balance, self.supply)"
   ]
  },
  {
   "cell_type": "code",
   "execution_count": 4,
   "id": "8fee376f-4ba4-4fe1-872d-1e80f36a70b6",
   "metadata": {},
   "outputs": [],
   "source": [
    "def init_w3(rpc_url: str):\n",
    "    return Web3(Web3.HTTPProvider(rpc_url))\n",
    "\n",
    "def init_contract(w3, address: str):\n",
    "    abi_path = os.path.join(\"./\", \"contracts\", \"PoktWorkshop.json\")\n",
    "\n",
    "    with open(abi_path, \"r\") as f:\n",
    "        abi = json.load(f)\n",
    "    return w3.eth.contract(address=address, abi=abi[\"abi\"])\n",
    "\n",
    "\n",
    "def init_account(private_key):\n",
    "    return Account.from_key(private_key)"
   ]
  },
  {
   "cell_type": "code",
   "execution_count": 5,
   "id": "ffd6b06f-8ae0-441d-aea6-e039b00830a7",
   "metadata": {},
   "outputs": [],
   "source": [
    "RPC_URL = \"Portal Endpoint URL\" # Replace with your Pocket Endpoint\n",
    "PRIVATE_KEY = \"Private Key Here\" # Replace with your own key"
   ]
  },
  {
   "cell_type": "code",
   "execution_count": 6,
   "id": "17f6be5f-6a4c-4c63-a4ac-117efdaefe95",
   "metadata": {},
   "outputs": [],
   "source": [
    "w3 = init_w3(RPC_URL)\n",
    "contract = init_contract(w3, ADDRESS)\n",
    "account = init_account(PRIVATE_KEY)"
   ]
  },
  {
   "cell_type": "code",
   "execution_count": 7,
   "id": "56e7df79-5ccc-4789-88f3-3421ba5f6cd2",
   "metadata": {},
   "outputs": [],
   "source": [
    "def claim_item(w3, contract, account, **txParams):\n",
    "    claim_tx = contract.functions.claim().buildTransaction({'from': account.address, 'nonce' : w3.eth.get_transaction_count(account.address)})\n",
    "    signed_tx = account.signTransaction(claim_tx)\n",
    "    w3.eth.send_raw_transaction(signed_tx.rawTransaction)\n",
    "\n",
    "def total_items(contract):\n",
    "    return contract.functions.lastClaimableId().call()\n",
    "\n",
    "def view_owned_items(contract, address):\n",
    "    n = total_items(contract)\n",
    "    items = [CollectionItem(i, contract, address) for i in range(1, n+1)]\n",
    "    return [item for item in items if item.balance]\n",
    "\n",
    "def set_next_item(w3, contract, account):\n",
    "    next_tx = contract.functions.setNextItem(28800).buildTransaction({'from': account.address, 'nonce' : w3.eth.get_transaction_count(account.address)})\n",
    "    signed_tx = account.signTransaction(next_tx)\n",
    "    w3.eth.send_raw_transaction(signed_tx.rawTransaction)"
   ]
  },
  {
   "cell_type": "code",
   "execution_count": 8,
   "id": "8cbcc126-5a1c-4e84-8280-c7bdc8ae2382",
   "metadata": {},
   "outputs": [
    {
     "name": "stdout",
     "output_type": "stream",
     "text": [
      "Not Items Currently Owned\n"
     ]
    }
   ],
   "source": [
    "items = view_owned_items(contract, account.address)\n",
    "for item in items:\n",
    "    display(item)\n",
    "if not items:\n",
    "    print(\"Not Items Currently Owned\")"
   ]
  },
  {
   "cell_type": "code",
   "execution_count": 9,
   "id": "5198232e-8506-498b-952d-09ba914545b4",
   "metadata": {},
   "outputs": [],
   "source": [
    "claim_item(w3, contract, account)"
   ]
  },
  {
   "cell_type": "code",
   "execution_count": 12,
   "id": "c2ee596b-7cab-4fb9-855a-77736bb443a3",
   "metadata": {},
   "outputs": [],
   "source": [
    "items = view_owned_items(contract, account.address)\n",
    "for item in items:\n",
    "    display(item)"
   ]
  },
  {
   "cell_type": "code",
   "execution_count": null,
   "id": "4a0618da-5703-4376-a18a-9ffc15cbc638",
   "metadata": {},
   "outputs": [],
   "source": []
  }
 ],
 "metadata": {
  "kernelspec": {
   "display_name": "Python 3 (ipykernel)",
   "language": "python",
   "name": "python3"
  },
  "language_info": {
   "codemirror_mode": {
    "name": "ipython",
    "version": 3
   },
   "file_extension": ".py",
   "mimetype": "text/x-python",
   "name": "python",
   "nbconvert_exporter": "python",
   "pygments_lexer": "ipython3",
   "version": "3.9.5"
  }
 },
 "nbformat": 4,
 "nbformat_minor": 5
}
